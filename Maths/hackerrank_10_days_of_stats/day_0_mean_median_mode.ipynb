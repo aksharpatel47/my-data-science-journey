{
 "cells": [
  {
   "cell_type": "markdown",
   "metadata": {},
   "source": [
    "# Day 0 of 10 Days of Statistics\n",
    "\n",
    "Available on Hackerrank\n",
    "\n",
    "**Objective**\n",
    "\n",
    "Practice calculating mean, median and mode\n",
    "\n",
    "**Input**\n",
    "\n",
    "Array X of N integers"
   ]
  },
  {
   "cell_type": "code",
   "execution_count": 31,
   "metadata": {},
   "outputs": [],
   "source": [
    "import numpy as np\n",
    "from collections import Counter\n",
    "import matplotlib.pyplot as plt"
   ]
  },
  {
   "cell_type": "code",
   "execution_count": 21,
   "metadata": {},
   "outputs": [],
   "source": [
    "input_arr = np.random.randint(0, high=100, size=100)"
   ]
  },
  {
   "cell_type": "code",
   "execution_count": 22,
   "metadata": {},
   "outputs": [
    {
     "data": {
      "image/png": "[encoded data removed]",
      "text/plain": [
       "<Figure size 432x288 with 1 Axes>"
      ]
     },
     "metadata": {
      "needs_background": "light"
     },
     "output_type": "display_data"
    }
   ],
   "source": [
    "plt.hist(input_arr)\n",
    "plt.xlabel(\"Input\")\n",
    "plt.ylabel(\"Count\")\n",
    "\n",
    "plt.show()"
   ]
  },
  {
   "cell_type": "markdown",
   "metadata": {},
   "source": [
    "## Mean\n",
    "\n",
    "mean = sum of all input / count of elements in the input"
   ]
  },
  {
   "cell_type": "code",
   "execution_count": 25,
   "metadata": {},
   "outputs": [
    {
     "name": "stdout",
     "output_type": "stream",
     "text": [
      "52.4\n"
     ]
    }
   ],
   "source": [
    "mean = input_arr.sum() / input_arr.size\n",
    "print(mean)"
   ]
  },
  {
   "cell_type": "markdown",
   "metadata": {},
   "source": [
    "## Median\n",
    "\n",
    "The middle value of the sorted input\n",
    "\n",
    "If the length of the input is Odd, the middle element is the median\n",
    "else, the average of middle two elements is the median"
   ]
  },
  {
   "cell_type": "code",
   "execution_count": 30,
   "metadata": {},
   "outputs": [
    {
     "name": "stdout",
     "output_type": "stream",
     "text": [
      "54.0\n"
     ]
    }
   ],
   "source": [
    "input_arr = np.sort(input_arr)\n",
    "\n",
    "mid_index = input_arr.size // 2\n",
    "\n",
    "\n",
    "if input_arr.size % 2 == 0:\n",
    "    median = (input_arr[mid_index] + input_arr[mid_index - 1]) / 2\n",
    "else:\n",
    "    median = input_arr[mid_index]\n",
    "    \n",
    "print(median)"
   ]
  },
  {
   "cell_type": "markdown",
   "metadata": {},
   "source": [
    "## Mode\n",
    "\n",
    "The element in the array having the most occurence. There may be more than one. Select the smallest one."
   ]
  },
  {
   "cell_type": "code",
   "execution_count": 33,
   "metadata": {},
   "outputs": [
    {
     "name": "stdout",
     "output_type": "stream",
     "text": [
      "Max Element: 57\n",
      "Max Element Count: 4\n"
     ]
    }
   ],
   "source": [
    "c = Counter()\n",
    "\n",
    "max_elem = input_arr[0]\n",
    "\n",
    "for elem in input_arr:\n",
    "    c[elem] += 1\n",
    "    \n",
    "    if c[elem] > c[max_elem]:\n",
    "        max_elem = elem\n",
    "    elif c[elem] == c[max_elem] and elem < max_elem:\n",
    "        max_elem = elem\n",
    "        \n",
    "print(\"Max Element:\", max_elem)\n",
    "print(\"Max Element Count:\", c[max_elem])"
   ]
  }
 ],
 "metadata": {
  "kernelspec": {
   "display_name": "Python 3",
   "language": "python",
   "name": "python3"
  },
  "language_info": {
   "codemirror_mode": {
    "name": "ipython",
    "version": 3
   },
   "file_extension": ".py",
   "mimetype": "text/x-python",
   "name": "python",
   "nbconvert_exporter": "python",
   "pygments_lexer": "ipython3",
   "version": "3.6.6"
  }
 },
 "nbformat": 4,
 "nbformat_minor": 2
}
